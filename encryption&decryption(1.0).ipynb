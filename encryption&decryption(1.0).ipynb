{
 "cells": [
  {
   "cell_type": "markdown",
   "id": "c9505044",
   "metadata": {},
   "source": [
    "# Encoding Data"
   ]
  },
  {
   "cell_type": "code",
   "execution_count": 11,
   "id": "902f969a",
   "metadata": {},
   "outputs": [
    {
     "name": "stdout",
     "output_type": "stream",
     "text": [
      "azfsmu\n"
     ]
    }
   ],
   "source": [
    "import numpy as np\n",
    "\n",
    "def digit(latter):                      # Characters into Array of number. eg( \"ab\" --> [0,1] )\n",
    "    ans = [ord(i)-97 for i in latter]\n",
    "    return np.array(ans)\n",
    "\n",
    "def letter(arli):                      # Array of number into characters. eg( [0,1] ---> \"ab\" )\n",
    "    ans = \"\"\n",
    "    for i in arli:\n",
    "        ans += chr(i+97)\n",
    "    return ans\n",
    "        \n",
    "    \n",
    "\n",
    "data = \"Bishek\"                        # --------------------------------- DATA\n",
    "data = data.lower() if len(data)%2==0 else data+\" \".lower()\n",
    "b= np.array([[2,3],[3,6]])             #----------------------------------- KEY\n",
    "\n",
    "\n",
    "encode = \"\"\n",
    "\n",
    "for i in range(0,len(data),2):        # --------------------------------- Encoding Process\n",
    "    \n",
    "    a = digit(data[i:i+2])    \n",
    "    c = np.dot(a,b)\n",
    "    h = np.mod(c,26)\n",
    "    encode += letter(h)\n",
    "\n",
    "print(encode)  \n"
   ]
  },
  {
   "cell_type": "markdown",
   "id": "4f886330",
   "metadata": {},
   "source": [
    "# Decoding Data"
   ]
  },
  {
   "cell_type": "code",
   "execution_count": 12,
   "id": "842f24c8",
   "metadata": {},
   "outputs": [
    {
     "name": "stdout",
     "output_type": "stream",
     "text": [
      "bishek\n"
     ]
    }
   ],
   "source": [
    "import numpy as np\n",
    "from sympy import Matrix\n",
    "\n",
    "def digit(latter):                      # Characters into Array of number. eg( \"ab\" --> [0,1] )\n",
    "    ans = [ord(i)-97 for i in latter]\n",
    "    return np.array(ans)\n",
    "\n",
    "def letter(arli):                      # Array of number into characters. eg( [0,1] ---> \"ab\" )\n",
    "    ans = \"\"\n",
    "    for i in arli:\n",
    "        ans += chr(i+97)\n",
    "    return ans\n",
    "\n",
    "\n",
    "data = \"azfsmu\"                      # --------------  ENCRYPTED DATA\n",
    "\n",
    "key = np.array([[2,3],[3,6]])\n",
    "\n",
    "inverse_key = Matrix(key).inv_mod(26)\n",
    "inverse_key = np.array(inverse_key)      # ------- sympy to numpy\n",
    "inverse_key = inverse_key.astype(float)\n",
    "k = inverse_key                       # ------------------------------- Inverse KEY\n",
    "\n",
    "\n",
    "decode = \"\"\n",
    "\n",
    "for i in range(0,len(data),2):        # --------------------------------- Decoding Process\n",
    "    \n",
    "    a = digit(data[i:i+2])\n",
    "    c = np.dot(k,a)\n",
    "    h = np.mod(c,26)\n",
    "    decode += letter(h.astype(int))\n",
    "\n",
    "print(decode)"
   ]
  },
  {
   "cell_type": "code",
   "execution_count": null,
   "id": "cf2e930b",
   "metadata": {},
   "outputs": [],
   "source": []
  }
 ],
 "metadata": {
  "kernelspec": {
   "display_name": "Python 3 (ipykernel)",
   "language": "python",
   "name": "python3"
  },
  "language_info": {
   "codemirror_mode": {
    "name": "ipython",
    "version": 3
   },
   "file_extension": ".py",
   "mimetype": "text/x-python",
   "name": "python",
   "nbconvert_exporter": "python",
   "pygments_lexer": "ipython3",
   "version": "3.9.6"
  }
 },
 "nbformat": 4,
 "nbformat_minor": 5
}
